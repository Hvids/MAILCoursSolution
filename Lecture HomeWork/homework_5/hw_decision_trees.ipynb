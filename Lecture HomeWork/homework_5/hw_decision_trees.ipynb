{
 "cells": [
  {
   "cell_type": "markdown",
   "metadata": {},
   "source": [
    "Ответы на данное задание необходимо заполнить здесь - https://forms.gle/Ny8FmBtXVV4oQesP6\n",
    "\n",
    "Само соревнование - https://www.kaggle.com/c/mai-ml-decision-trees/overview"
   ]
  },
  {
   "cell_type": "code",
   "execution_count": 1,
   "metadata": {},
   "outputs": [],
   "source": [
    "import os\n",
    "\n",
    "import pandas as pd\n",
    "import numpy as np\n",
    "import matplotlib.pyplot as plt\n",
    "import seaborn as sns\n",
    "import sklearn.metrics as sm\n",
    "import warnings\n",
    "\n",
    "from sklearn.linear_model import LogisticRegression\n",
    "from sklearn.neighbors import KNeighborsClassifier\n",
    "from sklearn.model_selection import KFold, StratifiedKFold\n",
    "from sklearn.preprocessing import LabelEncoder\n",
    "\n",
    "from tqdm import tqdm\n",
    "\n",
    "warnings.filterwarnings(\"ignore\")\n",
    "\n",
    "%matplotlib inline"
   ]
  },
  {
   "cell_type": "code",
   "execution_count": 2,
   "metadata": {},
   "outputs": [
    {
     "data": {
      "text/html": [
       "<div>\n",
       "<style scoped>\n",
       "    .dataframe tbody tr th:only-of-type {\n",
       "        vertical-align: middle;\n",
       "    }\n",
       "\n",
       "    .dataframe tbody tr th {\n",
       "        vertical-align: top;\n",
       "    }\n",
       "\n",
       "    .dataframe thead th {\n",
       "        text-align: right;\n",
       "    }\n",
       "</style>\n",
       "<table border=\"1\" class=\"dataframe\">\n",
       "  <thead>\n",
       "    <tr style=\"text-align: right;\">\n",
       "      <th></th>\n",
       "      <th>PassengerId</th>\n",
       "      <th>Pclass</th>\n",
       "      <th>Name</th>\n",
       "      <th>Sex</th>\n",
       "      <th>Age</th>\n",
       "      <th>SibSp</th>\n",
       "      <th>Parch</th>\n",
       "      <th>Ticket</th>\n",
       "      <th>Fare</th>\n",
       "      <th>Cabin</th>\n",
       "      <th>Embarked</th>\n",
       "      <th>Survived</th>\n",
       "    </tr>\n",
       "  </thead>\n",
       "  <tbody>\n",
       "    <tr>\n",
       "      <th>0</th>\n",
       "      <td>888</td>\n",
       "      <td>1</td>\n",
       "      <td>Graham, Miss. Margaret Edith</td>\n",
       "      <td>female</td>\n",
       "      <td>19.0</td>\n",
       "      <td>0</td>\n",
       "      <td>0</td>\n",
       "      <td>112053</td>\n",
       "      <td>30.0000</td>\n",
       "      <td>B42</td>\n",
       "      <td>S</td>\n",
       "      <td>1</td>\n",
       "    </tr>\n",
       "    <tr>\n",
       "      <th>1</th>\n",
       "      <td>1249</td>\n",
       "      <td>3</td>\n",
       "      <td>Lockyer, Mr. Edward</td>\n",
       "      <td>male</td>\n",
       "      <td>NaN</td>\n",
       "      <td>0</td>\n",
       "      <td>0</td>\n",
       "      <td>1222</td>\n",
       "      <td>7.8792</td>\n",
       "      <td>NaN</td>\n",
       "      <td>S</td>\n",
       "      <td>0</td>\n",
       "    </tr>\n",
       "    <tr>\n",
       "      <th>2</th>\n",
       "      <td>1240</td>\n",
       "      <td>2</td>\n",
       "      <td>Giles, Mr. Ralph</td>\n",
       "      <td>male</td>\n",
       "      <td>24.0</td>\n",
       "      <td>0</td>\n",
       "      <td>0</td>\n",
       "      <td>248726</td>\n",
       "      <td>13.5000</td>\n",
       "      <td>NaN</td>\n",
       "      <td>S</td>\n",
       "      <td>0</td>\n",
       "    </tr>\n",
       "    <tr>\n",
       "      <th>3</th>\n",
       "      <td>221</td>\n",
       "      <td>3</td>\n",
       "      <td>Sunderland, Mr. Victor Francis</td>\n",
       "      <td>male</td>\n",
       "      <td>16.0</td>\n",
       "      <td>0</td>\n",
       "      <td>0</td>\n",
       "      <td>SOTON/OQ 392089</td>\n",
       "      <td>8.0500</td>\n",
       "      <td>NaN</td>\n",
       "      <td>S</td>\n",
       "      <td>1</td>\n",
       "    </tr>\n",
       "    <tr>\n",
       "      <th>4</th>\n",
       "      <td>1105</td>\n",
       "      <td>2</td>\n",
       "      <td>Howard, Mrs. Benjamin (Ellen Truelove Arman)</td>\n",
       "      <td>female</td>\n",
       "      <td>60.0</td>\n",
       "      <td>1</td>\n",
       "      <td>0</td>\n",
       "      <td>24065</td>\n",
       "      <td>26.0000</td>\n",
       "      <td>NaN</td>\n",
       "      <td>S</td>\n",
       "      <td>0</td>\n",
       "    </tr>\n",
       "  </tbody>\n",
       "</table>\n",
       "</div>"
      ],
      "text/plain": [
       "   PassengerId  Pclass                                          Name     Sex  \\\n",
       "0          888       1                  Graham, Miss. Margaret Edith  female   \n",
       "1         1249       3                           Lockyer, Mr. Edward    male   \n",
       "2         1240       2                              Giles, Mr. Ralph    male   \n",
       "3          221       3                Sunderland, Mr. Victor Francis    male   \n",
       "4         1105       2  Howard, Mrs. Benjamin (Ellen Truelove Arman)  female   \n",
       "\n",
       "    Age  SibSp  Parch           Ticket     Fare Cabin Embarked  Survived  \n",
       "0  19.0      0      0           112053  30.0000   B42        S         1  \n",
       "1   NaN      0      0             1222   7.8792   NaN        S         0  \n",
       "2  24.0      0      0           248726  13.5000   NaN        S         0  \n",
       "3  16.0      0      0  SOTON/OQ 392089   8.0500   NaN        S         1  \n",
       "4  60.0      1      0            24065  26.0000   NaN        S         0  "
      ]
     },
     "execution_count": 2,
     "metadata": {},
     "output_type": "execute_result"
    }
   ],
   "source": [
    "train_df = pd.read_csv(\"data/train.csv\")\n",
    "test_df = pd.read_csv(\"data/test.csv\")\n",
    "\n",
    "train_df.head()"
   ]
  },
  {
   "cell_type": "code",
   "execution_count": 3,
   "metadata": {},
   "outputs": [
    {
     "data": {
      "text/html": [
       "<div>\n",
       "<style scoped>\n",
       "    .dataframe tbody tr th:only-of-type {\n",
       "        vertical-align: middle;\n",
       "    }\n",
       "\n",
       "    .dataframe tbody tr th {\n",
       "        vertical-align: top;\n",
       "    }\n",
       "\n",
       "    .dataframe thead th {\n",
       "        text-align: right;\n",
       "    }\n",
       "</style>\n",
       "<table border=\"1\" class=\"dataframe\">\n",
       "  <thead>\n",
       "    <tr style=\"text-align: right;\">\n",
       "      <th></th>\n",
       "      <th>PassengerId</th>\n",
       "      <th>Pclass</th>\n",
       "      <th>Name</th>\n",
       "      <th>Sex</th>\n",
       "      <th>Age</th>\n",
       "      <th>SibSp</th>\n",
       "      <th>Parch</th>\n",
       "      <th>Ticket</th>\n",
       "      <th>Fare</th>\n",
       "      <th>Cabin</th>\n",
       "      <th>Embarked</th>\n",
       "    </tr>\n",
       "  </thead>\n",
       "  <tbody>\n",
       "    <tr>\n",
       "      <th>0</th>\n",
       "      <td>1167</td>\n",
       "      <td>2</td>\n",
       "      <td>Bryhl, Miss. Dagmar Jenny Ingeborg</td>\n",
       "      <td>female</td>\n",
       "      <td>20.0</td>\n",
       "      <td>1</td>\n",
       "      <td>0</td>\n",
       "      <td>236853</td>\n",
       "      <td>26.00</td>\n",
       "      <td>NaN</td>\n",
       "      <td>S</td>\n",
       "    </tr>\n",
       "    <tr>\n",
       "      <th>1</th>\n",
       "      <td>1215</td>\n",
       "      <td>1</td>\n",
       "      <td>Rowe, Mr. Alfred G</td>\n",
       "      <td>male</td>\n",
       "      <td>33.0</td>\n",
       "      <td>0</td>\n",
       "      <td>0</td>\n",
       "      <td>113790</td>\n",
       "      <td>26.55</td>\n",
       "      <td>NaN</td>\n",
       "      <td>S</td>\n",
       "    </tr>\n",
       "    <tr>\n",
       "      <th>2</th>\n",
       "      <td>823</td>\n",
       "      <td>1</td>\n",
       "      <td>Reuchlin, Jonkheer. John George</td>\n",
       "      <td>male</td>\n",
       "      <td>38.0</td>\n",
       "      <td>0</td>\n",
       "      <td>0</td>\n",
       "      <td>19972</td>\n",
       "      <td>0.00</td>\n",
       "      <td>NaN</td>\n",
       "      <td>S</td>\n",
       "    </tr>\n",
       "    <tr>\n",
       "      <th>3</th>\n",
       "      <td>864</td>\n",
       "      <td>3</td>\n",
       "      <td>Sage, Miss. Dorothy Edith \"Dolly\"</td>\n",
       "      <td>female</td>\n",
       "      <td>NaN</td>\n",
       "      <td>8</td>\n",
       "      <td>2</td>\n",
       "      <td>CA. 2343</td>\n",
       "      <td>69.55</td>\n",
       "      <td>NaN</td>\n",
       "      <td>S</td>\n",
       "    </tr>\n",
       "    <tr>\n",
       "      <th>4</th>\n",
       "      <td>11</td>\n",
       "      <td>3</td>\n",
       "      <td>Sandstrom, Miss. Marguerite Rut</td>\n",
       "      <td>female</td>\n",
       "      <td>4.0</td>\n",
       "      <td>1</td>\n",
       "      <td>1</td>\n",
       "      <td>PP 9549</td>\n",
       "      <td>16.70</td>\n",
       "      <td>G6</td>\n",
       "      <td>S</td>\n",
       "    </tr>\n",
       "  </tbody>\n",
       "</table>\n",
       "</div>"
      ],
      "text/plain": [
       "   PassengerId  Pclass                                 Name     Sex   Age  \\\n",
       "0         1167       2  Bryhl, Miss. Dagmar Jenny Ingeborg   female  20.0   \n",
       "1         1215       1                   Rowe, Mr. Alfred G    male  33.0   \n",
       "2          823       1      Reuchlin, Jonkheer. John George    male  38.0   \n",
       "3          864       3    Sage, Miss. Dorothy Edith \"Dolly\"  female   NaN   \n",
       "4           11       3      Sandstrom, Miss. Marguerite Rut  female   4.0   \n",
       "\n",
       "   SibSp  Parch    Ticket   Fare Cabin Embarked  \n",
       "0      1      0    236853  26.00   NaN        S  \n",
       "1      0      0    113790  26.55   NaN        S  \n",
       "2      0      0     19972   0.00   NaN        S  \n",
       "3      8      2  CA. 2343  69.55   NaN        S  \n",
       "4      1      1   PP 9549  16.70    G6        S  "
      ]
     },
     "execution_count": 3,
     "metadata": {},
     "output_type": "execute_result"
    }
   ],
   "source": [
    "test_df.head()"
   ]
  },
  {
   "cell_type": "markdown",
   "metadata": {},
   "source": [
    "## Извлечение признаков\n",
    "\n",
    "Проделаем ту же самую работу, которая была в бейзлайне последнего соревнования"
   ]
  },
  {
   "cell_type": "code",
   "execution_count": 4,
   "metadata": {},
   "outputs": [
    {
     "data": {
      "text/html": [
       "<div>\n",
       "<style scoped>\n",
       "    .dataframe tbody tr th:only-of-type {\n",
       "        vertical-align: middle;\n",
       "    }\n",
       "\n",
       "    .dataframe tbody tr th {\n",
       "        vertical-align: top;\n",
       "    }\n",
       "\n",
       "    .dataframe thead th {\n",
       "        text-align: right;\n",
       "    }\n",
       "</style>\n",
       "<table border=\"1\" class=\"dataframe\">\n",
       "  <thead>\n",
       "    <tr style=\"text-align: right;\">\n",
       "      <th></th>\n",
       "      <th>PassengerId</th>\n",
       "      <th>Pclass</th>\n",
       "      <th>Name</th>\n",
       "      <th>Sex</th>\n",
       "      <th>Age</th>\n",
       "      <th>SibSp</th>\n",
       "      <th>Parch</th>\n",
       "      <th>Ticket</th>\n",
       "      <th>Fare</th>\n",
       "      <th>Cabin</th>\n",
       "      <th>Embarked</th>\n",
       "      <th>Survived</th>\n",
       "      <th>Title</th>\n",
       "    </tr>\n",
       "  </thead>\n",
       "  <tbody>\n",
       "    <tr>\n",
       "      <th>0</th>\n",
       "      <td>888</td>\n",
       "      <td>1</td>\n",
       "      <td>Graham, Miss. Margaret Edith</td>\n",
       "      <td>female</td>\n",
       "      <td>19.0</td>\n",
       "      <td>0</td>\n",
       "      <td>0</td>\n",
       "      <td>112053</td>\n",
       "      <td>30.0000</td>\n",
       "      <td>B42</td>\n",
       "      <td>S</td>\n",
       "      <td>1</td>\n",
       "      <td>Miss</td>\n",
       "    </tr>\n",
       "    <tr>\n",
       "      <th>1</th>\n",
       "      <td>1249</td>\n",
       "      <td>3</td>\n",
       "      <td>Lockyer, Mr. Edward</td>\n",
       "      <td>male</td>\n",
       "      <td>NaN</td>\n",
       "      <td>0</td>\n",
       "      <td>0</td>\n",
       "      <td>1222</td>\n",
       "      <td>7.8792</td>\n",
       "      <td>NaN</td>\n",
       "      <td>S</td>\n",
       "      <td>0</td>\n",
       "      <td>Mr</td>\n",
       "    </tr>\n",
       "    <tr>\n",
       "      <th>2</th>\n",
       "      <td>1240</td>\n",
       "      <td>2</td>\n",
       "      <td>Giles, Mr. Ralph</td>\n",
       "      <td>male</td>\n",
       "      <td>24.0</td>\n",
       "      <td>0</td>\n",
       "      <td>0</td>\n",
       "      <td>248726</td>\n",
       "      <td>13.5000</td>\n",
       "      <td>NaN</td>\n",
       "      <td>S</td>\n",
       "      <td>0</td>\n",
       "      <td>Mr</td>\n",
       "    </tr>\n",
       "    <tr>\n",
       "      <th>3</th>\n",
       "      <td>221</td>\n",
       "      <td>3</td>\n",
       "      <td>Sunderland, Mr. Victor Francis</td>\n",
       "      <td>male</td>\n",
       "      <td>16.0</td>\n",
       "      <td>0</td>\n",
       "      <td>0</td>\n",
       "      <td>SOTON/OQ 392089</td>\n",
       "      <td>8.0500</td>\n",
       "      <td>NaN</td>\n",
       "      <td>S</td>\n",
       "      <td>1</td>\n",
       "      <td>Mr</td>\n",
       "    </tr>\n",
       "    <tr>\n",
       "      <th>4</th>\n",
       "      <td>1105</td>\n",
       "      <td>2</td>\n",
       "      <td>Howard, Mrs. Benjamin (Ellen Truelove Arman)</td>\n",
       "      <td>female</td>\n",
       "      <td>60.0</td>\n",
       "      <td>1</td>\n",
       "      <td>0</td>\n",
       "      <td>24065</td>\n",
       "      <td>26.0000</td>\n",
       "      <td>NaN</td>\n",
       "      <td>S</td>\n",
       "      <td>0</td>\n",
       "      <td>Mrs</td>\n",
       "    </tr>\n",
       "  </tbody>\n",
       "</table>\n",
       "</div>"
      ],
      "text/plain": [
       "   PassengerId  Pclass                                          Name     Sex  \\\n",
       "0          888       1                  Graham, Miss. Margaret Edith  female   \n",
       "1         1249       3                           Lockyer, Mr. Edward    male   \n",
       "2         1240       2                              Giles, Mr. Ralph    male   \n",
       "3          221       3                Sunderland, Mr. Victor Francis    male   \n",
       "4         1105       2  Howard, Mrs. Benjamin (Ellen Truelove Arman)  female   \n",
       "\n",
       "    Age  SibSp  Parch           Ticket     Fare Cabin Embarked  Survived Title  \n",
       "0  19.0      0      0           112053  30.0000   B42        S         1  Miss  \n",
       "1   NaN      0      0             1222   7.8792   NaN        S         0    Mr  \n",
       "2  24.0      0      0           248726  13.5000   NaN        S         0    Mr  \n",
       "3  16.0      0      0  SOTON/OQ 392089   8.0500   NaN        S         1    Mr  \n",
       "4  60.0      1      0            24065  26.0000   NaN        S         0   Mrs  "
      ]
     },
     "execution_count": 4,
     "metadata": {},
     "output_type": "execute_result"
    }
   ],
   "source": [
    "train_df[\"Title\"] = train_df.Name.apply(lambda x: x.split(\" \")[1].replace(\".\", \"\"))\n",
    "test_df[\"Title\"] = test_df.Name.apply(lambda x: x.split(\" \")[1].replace(\".\", \"\"))\n",
    "\n",
    "title_stat = train_df.groupby(\"Title\").Name.agg([\"count\"])\n",
    "title_stat[\"is_rare\"] = title_stat[\"count\"] < 10\n",
    "titles = title_stat[~title_stat.is_rare].index.values\n",
    "\n",
    "train_df.Title = train_df.Title.apply(lambda x: x if x in titles else \"rare_title\")\n",
    "test_df.Title = test_df.Title.apply(lambda x: x if x in titles else \"rare_title\")\n",
    "\n",
    "train_df.head()"
   ]
  },
  {
   "cell_type": "code",
   "execution_count": 5,
   "metadata": {},
   "outputs": [
    {
     "data": {
      "text/plain": [
       "Title\n",
       "Master         38\n",
       "Miss          163\n",
       "Mr            487\n",
       "Mrs           123\n",
       "rare_title     39\n",
       "Name: PassengerId, dtype: int64"
      ]
     },
     "execution_count": 5,
     "metadata": {},
     "output_type": "execute_result"
    }
   ],
   "source": [
    "train_df.groupby(\"Title\").PassengerId.count()"
   ]
  },
  {
   "cell_type": "code",
   "execution_count": 6,
   "metadata": {},
   "outputs": [],
   "source": [
    "train_df[\"Children\"] = train_df.Age.apply(lambda x: 1 if x < 18 else 0)\n",
    "train_df[\"Mother\"] = train_df.apply(lambda x: 1 if x.Sex == \"female\" and x.Age > 18 and x.Parch > 0 else 0, axis=1)\n",
    "train_df[\"Family_size\"] = train_df.SibSp + train_df.Parch + 1\n",
    "\n",
    "test_df[\"Children\"] = test_df.Age.apply(lambda x: 1 if x < 18 else 0)\n",
    "test_df[\"Mother\"] = test_df.apply(lambda x: 1 if x.Sex == \"female\" and x.Age > 18 and x.Parch > 0 else 0, axis=1)\n",
    "test_df[\"Family_size\"] = test_df.SibSp + test_df.Parch + 1\n",
    "\n",
    "train_df[\"Deck\"] = train_df.Cabin.astype(\"str\").apply(lambda x: x[0] if x != \"nan\" else \"no_deck\")\n",
    "test_df[\"Deck\"] = test_df.Cabin.astype(\"str\").apply(lambda x: x[0] if x != \"nan\" else \"no_deck\")"
   ]
  },
  {
   "cell_type": "markdown",
   "metadata": {},
   "source": [
    "Заполним пропуски на этот раз медианными значениями"
   ]
  },
  {
   "cell_type": "code",
   "execution_count": 7,
   "metadata": {},
   "outputs": [],
   "source": [
    "train_df.Age = train_df.Age.fillna(train_df.Age.dropna().median()).astype(\"int16\")\n",
    "train_df.Fare = train_df.Fare.fillna(train_df.Fare.dropna().median())\n",
    "train_df.Embarked = train_df.Embarked.fillna(\"no_info\")\n",
    "\n",
    "test_df.Age = test_df.Age.fillna(train_df.Age.dropna().median()).astype(\"int16\")\n",
    "test_df.Fare = test_df.Fare.fillna(train_df.Fare.dropna().median())\n",
    "test_df.Embarked = test_df.Embarked.fillna(\"no_info\")"
   ]
  },
  {
   "cell_type": "code",
   "execution_count": 8,
   "metadata": {},
   "outputs": [
    {
     "data": {
      "text/html": [
       "<div>\n",
       "<style scoped>\n",
       "    .dataframe tbody tr th:only-of-type {\n",
       "        vertical-align: middle;\n",
       "    }\n",
       "\n",
       "    .dataframe tbody tr th {\n",
       "        vertical-align: top;\n",
       "    }\n",
       "\n",
       "    .dataframe thead th {\n",
       "        text-align: right;\n",
       "    }\n",
       "</style>\n",
       "<table border=\"1\" class=\"dataframe\">\n",
       "  <thead>\n",
       "    <tr style=\"text-align: right;\">\n",
       "      <th></th>\n",
       "      <th>PassengerId</th>\n",
       "      <th>Pclass</th>\n",
       "      <th>Name</th>\n",
       "      <th>Sex</th>\n",
       "      <th>Age</th>\n",
       "      <th>SibSp</th>\n",
       "      <th>Parch</th>\n",
       "      <th>Ticket</th>\n",
       "      <th>Fare</th>\n",
       "      <th>Cabin</th>\n",
       "      <th>Embarked</th>\n",
       "      <th>Survived</th>\n",
       "      <th>Title</th>\n",
       "      <th>Children</th>\n",
       "      <th>Mother</th>\n",
       "      <th>Family_size</th>\n",
       "      <th>Deck</th>\n",
       "    </tr>\n",
       "  </thead>\n",
       "  <tbody>\n",
       "    <tr>\n",
       "      <th>0</th>\n",
       "      <td>888</td>\n",
       "      <td>1</td>\n",
       "      <td>Graham, Miss. Margaret Edith</td>\n",
       "      <td>female</td>\n",
       "      <td>19</td>\n",
       "      <td>0</td>\n",
       "      <td>0</td>\n",
       "      <td>112053</td>\n",
       "      <td>30.0000</td>\n",
       "      <td>B42</td>\n",
       "      <td>S</td>\n",
       "      <td>1</td>\n",
       "      <td>Miss</td>\n",
       "      <td>0</td>\n",
       "      <td>0</td>\n",
       "      <td>1</td>\n",
       "      <td>B</td>\n",
       "    </tr>\n",
       "    <tr>\n",
       "      <th>1</th>\n",
       "      <td>1249</td>\n",
       "      <td>3</td>\n",
       "      <td>Lockyer, Mr. Edward</td>\n",
       "      <td>male</td>\n",
       "      <td>28</td>\n",
       "      <td>0</td>\n",
       "      <td>0</td>\n",
       "      <td>1222</td>\n",
       "      <td>7.8792</td>\n",
       "      <td>NaN</td>\n",
       "      <td>S</td>\n",
       "      <td>0</td>\n",
       "      <td>Mr</td>\n",
       "      <td>0</td>\n",
       "      <td>0</td>\n",
       "      <td>1</td>\n",
       "      <td>no_deck</td>\n",
       "    </tr>\n",
       "    <tr>\n",
       "      <th>2</th>\n",
       "      <td>1240</td>\n",
       "      <td>2</td>\n",
       "      <td>Giles, Mr. Ralph</td>\n",
       "      <td>male</td>\n",
       "      <td>24</td>\n",
       "      <td>0</td>\n",
       "      <td>0</td>\n",
       "      <td>248726</td>\n",
       "      <td>13.5000</td>\n",
       "      <td>NaN</td>\n",
       "      <td>S</td>\n",
       "      <td>0</td>\n",
       "      <td>Mr</td>\n",
       "      <td>0</td>\n",
       "      <td>0</td>\n",
       "      <td>1</td>\n",
       "      <td>no_deck</td>\n",
       "    </tr>\n",
       "    <tr>\n",
       "      <th>3</th>\n",
       "      <td>221</td>\n",
       "      <td>3</td>\n",
       "      <td>Sunderland, Mr. Victor Francis</td>\n",
       "      <td>male</td>\n",
       "      <td>16</td>\n",
       "      <td>0</td>\n",
       "      <td>0</td>\n",
       "      <td>SOTON/OQ 392089</td>\n",
       "      <td>8.0500</td>\n",
       "      <td>NaN</td>\n",
       "      <td>S</td>\n",
       "      <td>1</td>\n",
       "      <td>Mr</td>\n",
       "      <td>1</td>\n",
       "      <td>0</td>\n",
       "      <td>1</td>\n",
       "      <td>no_deck</td>\n",
       "    </tr>\n",
       "    <tr>\n",
       "      <th>4</th>\n",
       "      <td>1105</td>\n",
       "      <td>2</td>\n",
       "      <td>Howard, Mrs. Benjamin (Ellen Truelove Arman)</td>\n",
       "      <td>female</td>\n",
       "      <td>60</td>\n",
       "      <td>1</td>\n",
       "      <td>0</td>\n",
       "      <td>24065</td>\n",
       "      <td>26.0000</td>\n",
       "      <td>NaN</td>\n",
       "      <td>S</td>\n",
       "      <td>0</td>\n",
       "      <td>Mrs</td>\n",
       "      <td>0</td>\n",
       "      <td>0</td>\n",
       "      <td>2</td>\n",
       "      <td>no_deck</td>\n",
       "    </tr>\n",
       "  </tbody>\n",
       "</table>\n",
       "</div>"
      ],
      "text/plain": [
       "   PassengerId  Pclass                                          Name     Sex  \\\n",
       "0          888       1                  Graham, Miss. Margaret Edith  female   \n",
       "1         1249       3                           Lockyer, Mr. Edward    male   \n",
       "2         1240       2                              Giles, Mr. Ralph    male   \n",
       "3          221       3                Sunderland, Mr. Victor Francis    male   \n",
       "4         1105       2  Howard, Mrs. Benjamin (Ellen Truelove Arman)  female   \n",
       "\n",
       "   Age  SibSp  Parch           Ticket     Fare Cabin Embarked  Survived Title  \\\n",
       "0   19      0      0           112053  30.0000   B42        S         1  Miss   \n",
       "1   28      0      0             1222   7.8792   NaN        S         0    Mr   \n",
       "2   24      0      0           248726  13.5000   NaN        S         0    Mr   \n",
       "3   16      0      0  SOTON/OQ 392089   8.0500   NaN        S         1    Mr   \n",
       "4   60      1      0            24065  26.0000   NaN        S         0   Mrs   \n",
       "\n",
       "   Children  Mother  Family_size     Deck  \n",
       "0         0       0            1        B  \n",
       "1         0       0            1  no_deck  \n",
       "2         0       0            1  no_deck  \n",
       "3         1       0            1  no_deck  \n",
       "4         0       0            2  no_deck  "
      ]
     },
     "execution_count": 8,
     "metadata": {},
     "output_type": "execute_result"
    }
   ],
   "source": [
    "train_df.head()"
   ]
  },
  {
   "cell_type": "code",
   "execution_count": 9,
   "metadata": {},
   "outputs": [
    {
     "data": {
      "text/plain": [
       "array(['S', 'C', 'Q'], dtype=object)"
      ]
     },
     "execution_count": 9,
     "metadata": {},
     "output_type": "execute_result"
    }
   ],
   "source": [
    "train_df.Embarked.unique()"
   ]
  },
  {
   "cell_type": "markdown",
   "metadata": {},
   "source": [
    "## Базовая версия признаков\n",
    "\n",
    "Для начала полностью повторим все шаги, которые были в бейзлайне и замерим качество"
   ]
  },
  {
   "cell_type": "code",
   "execution_count": 10,
   "metadata": {},
   "outputs": [],
   "source": [
    "train_v1 = train_df.copy()\n",
    "test_v1 = test_df.copy()\n",
    "\n",
    "unnecessary_cols = [\"Name\", \"Ticket\", \"SibSp\", \"Parch\", \"Cabin\"]\n",
    "\n",
    "train_v1 = train_v1.drop(unnecessary_cols, axis=1)\n",
    "test_v1 = test_v1.drop(unnecessary_cols, axis=1)\n",
    "\n",
    "encoder = LabelEncoder()\n",
    "encoding_cols = [\"Sex\", \"Embarked\", \"Title\", \"Deck\"]\n",
    "\n",
    "full_df = pd.concat([train_v1, test_v1], axis=0)\n",
    "\n",
    "for col in encoding_cols:\n",
    "    full_df[col] = encoder.fit_transform(full_df[col])\n",
    "    \n",
    "train_v1 = full_df[full_df.Survived.notnull()]\n",
    "train_v1.Survived = train_v1.Survived.astype(\"int8\")\n",
    "\n",
    "test_v1 = full_df[full_df.Survived.isnull()]\n",
    "test_v1.drop(\"Survived\", axis=1, inplace=True)\n",
    "\n",
    "feature_cols = [col for col in train_v1.columns if col not in {\"PassengerId\", \"Survived\"}]\n",
    "target_col = \"Survived\"\n",
    "\n",
    "X = train_v1[feature_cols].values\n",
    "y = train_v1[target_col]"
   ]
  },
  {
   "cell_type": "code",
   "execution_count": 11,
   "metadata": {},
   "outputs": [
    {
     "data": {
      "text/html": [
       "<div>\n",
       "<style scoped>\n",
       "    .dataframe tbody tr th:only-of-type {\n",
       "        vertical-align: middle;\n",
       "    }\n",
       "\n",
       "    .dataframe tbody tr th {\n",
       "        vertical-align: top;\n",
       "    }\n",
       "\n",
       "    .dataframe thead th {\n",
       "        text-align: right;\n",
       "    }\n",
       "</style>\n",
       "<table border=\"1\" class=\"dataframe\">\n",
       "  <thead>\n",
       "    <tr style=\"text-align: right;\">\n",
       "      <th></th>\n",
       "      <th>Age</th>\n",
       "      <th>Children</th>\n",
       "      <th>Deck</th>\n",
       "      <th>Embarked</th>\n",
       "      <th>Family_size</th>\n",
       "      <th>Fare</th>\n",
       "      <th>Mother</th>\n",
       "      <th>PassengerId</th>\n",
       "      <th>Pclass</th>\n",
       "      <th>Sex</th>\n",
       "      <th>Survived</th>\n",
       "      <th>Title</th>\n",
       "    </tr>\n",
       "  </thead>\n",
       "  <tbody>\n",
       "    <tr>\n",
       "      <th>0</th>\n",
       "      <td>19</td>\n",
       "      <td>0</td>\n",
       "      <td>1</td>\n",
       "      <td>2</td>\n",
       "      <td>1</td>\n",
       "      <td>30.0000</td>\n",
       "      <td>0</td>\n",
       "      <td>888</td>\n",
       "      <td>1</td>\n",
       "      <td>0</td>\n",
       "      <td>1</td>\n",
       "      <td>1</td>\n",
       "    </tr>\n",
       "    <tr>\n",
       "      <th>1</th>\n",
       "      <td>28</td>\n",
       "      <td>0</td>\n",
       "      <td>8</td>\n",
       "      <td>2</td>\n",
       "      <td>1</td>\n",
       "      <td>7.8792</td>\n",
       "      <td>0</td>\n",
       "      <td>1249</td>\n",
       "      <td>3</td>\n",
       "      <td>1</td>\n",
       "      <td>0</td>\n",
       "      <td>2</td>\n",
       "    </tr>\n",
       "    <tr>\n",
       "      <th>2</th>\n",
       "      <td>24</td>\n",
       "      <td>0</td>\n",
       "      <td>8</td>\n",
       "      <td>2</td>\n",
       "      <td>1</td>\n",
       "      <td>13.5000</td>\n",
       "      <td>0</td>\n",
       "      <td>1240</td>\n",
       "      <td>2</td>\n",
       "      <td>1</td>\n",
       "      <td>0</td>\n",
       "      <td>2</td>\n",
       "    </tr>\n",
       "    <tr>\n",
       "      <th>3</th>\n",
       "      <td>16</td>\n",
       "      <td>1</td>\n",
       "      <td>8</td>\n",
       "      <td>2</td>\n",
       "      <td>1</td>\n",
       "      <td>8.0500</td>\n",
       "      <td>0</td>\n",
       "      <td>221</td>\n",
       "      <td>3</td>\n",
       "      <td>1</td>\n",
       "      <td>1</td>\n",
       "      <td>2</td>\n",
       "    </tr>\n",
       "    <tr>\n",
       "      <th>4</th>\n",
       "      <td>60</td>\n",
       "      <td>0</td>\n",
       "      <td>8</td>\n",
       "      <td>2</td>\n",
       "      <td>2</td>\n",
       "      <td>26.0000</td>\n",
       "      <td>0</td>\n",
       "      <td>1105</td>\n",
       "      <td>2</td>\n",
       "      <td>0</td>\n",
       "      <td>0</td>\n",
       "      <td>3</td>\n",
       "    </tr>\n",
       "  </tbody>\n",
       "</table>\n",
       "</div>"
      ],
      "text/plain": [
       "   Age  Children  Deck  Embarked  Family_size     Fare  Mother  PassengerId  \\\n",
       "0   19         0     1         2            1  30.0000       0          888   \n",
       "1   28         0     8         2            1   7.8792       0         1249   \n",
       "2   24         0     8         2            1  13.5000       0         1240   \n",
       "3   16         1     8         2            1   8.0500       0          221   \n",
       "4   60         0     8         2            2  26.0000       0         1105   \n",
       "\n",
       "   Pclass  Sex  Survived  Title  \n",
       "0       1    0         1      1  \n",
       "1       3    1         0      2  \n",
       "2       2    1         0      2  \n",
       "3       3    1         1      2  \n",
       "4       2    0         0      3  "
      ]
     },
     "execution_count": 11,
     "metadata": {},
     "output_type": "execute_result"
    }
   ],
   "source": [
    "train_v1.head()"
   ]
  },
  {
   "cell_type": "markdown",
   "metadata": {},
   "source": [
    "### 1. Дерево без настройки гиперпараметров"
   ]
  },
  {
   "cell_type": "code",
   "execution_count": 12,
   "metadata": {},
   "outputs": [
    {
     "data": {
      "text/plain": [
       "DecisionTreeClassifier(class_weight=None, criterion='gini', max_depth=2,\n",
       "            max_features=None, max_leaf_nodes=None,\n",
       "            min_impurity_decrease=0.0, min_impurity_split=None,\n",
       "            min_samples_leaf=1, min_samples_split=2,\n",
       "            min_weight_fraction_leaf=0.0, presort=False, random_state=42,\n",
       "            splitter='best')"
      ]
     },
     "execution_count": 12,
     "metadata": {},
     "output_type": "execute_result"
    }
   ],
   "source": [
    "from sklearn.tree import DecisionTreeClassifier\n",
    "\n",
    "RANDOM_STATE = 42\n",
    "\n",
    "model = DecisionTreeClassifier(max_depth=2, random_state=RANDOM_STATE)\n",
    "model.fit(X, y)"
   ]
  },
  {
   "cell_type": "code",
   "execution_count": 13,
   "metadata": {},
   "outputs": [],
   "source": [
    "def make_submission(ids, preds, output_path='submission.csv'):\n",
    "    subm = pd.DataFrame()\n",
    "    subm['PassengerId'] = ids\n",
    "    subm['Survived'] = preds\n",
    "    subm.to_csv(output_path, index=False)"
   ]
  },
  {
   "cell_type": "code",
   "execution_count": 14,
   "metadata": {},
   "outputs": [],
   "source": [
    "X_test = test_v1[feature_cols].values\n",
    "preds = model.predict(X_test)\n",
    "ids = test_df.PassengerId.values\n",
    "make_submission(ids,preds)"
   ]
  },
  {
   "cell_type": "markdown",
   "metadata": {},
   "source": [
    "<font color='red'>Вопрос 1:</font> какой получается скор на public лидерборде в соревновании (c точностью до трех знаков) ?\n",
    "\n",
    "- 0.760\n",
    "- 0.754\n",
    "- 0.759\n",
    "- 0.761"
   ]
  },
  {
   "cell_type": "code",
   "execution_count": 15,
   "metadata": {},
   "outputs": [],
   "source": [
    "#  0.75476 - (2)"
   ]
  },
  {
   "cell_type": "markdown",
   "metadata": {},
   "source": [
    "Теперь ваша задача отрисовать дерево. Необходимые библиотеки указаны ниже, вам необходимо немного погуглить."
   ]
  },
  {
   "cell_type": "code",
   "execution_count": 16,
   "metadata": {},
   "outputs": [],
   "source": [
    "from ipywidgets import Image\n",
    "from io import StringIO\n",
    "import pydotplus\n",
    "from sklearn.tree import export_graphviz\n",
    "import graphviz\n"
   ]
  },
  {
   "cell_type": "code",
   "execution_count": 17,
   "metadata": {},
   "outputs": [
    {
     "data": {
      "image/svg+xml": [
       "<?xml version=\"1.0\" encoding=\"UTF-8\" standalone=\"no\"?>\n",
       "<!DOCTYPE svg PUBLIC \"-//W3C//DTD SVG 1.1//EN\"\n",
       " \"http://www.w3.org/Graphics/SVG/1.1/DTD/svg11.dtd\">\n",
       "<!-- Generated by graphviz version 2.40.1 (20161225.0304)\n",
       " -->\n",
       "<!-- Title: Tree Pages: 1 -->\n",
       "<svg width=\"497pt\" height=\"269pt\"\n",
       " viewBox=\"0.00 0.00 497.00 269.00\" xmlns=\"http://www.w3.org/2000/svg\" xmlns:xlink=\"http://www.w3.org/1999/xlink\">\n",
       "<g id=\"graph0\" class=\"graph\" transform=\"scale(1 1) rotate(0) translate(4 265)\">\n",
       "<title>Tree</title>\n",
       "<polygon fill=\"#ffffff\" stroke=\"transparent\" points=\"-4,4 -4,-265 493,-265 493,4 -4,4\"/>\n",
       "<!-- 0 -->\n",
       "<g id=\"node1\" class=\"node\">\n",
       "<title>0</title>\n",
       "<polygon fill=\"none\" stroke=\"#000000\" points=\"305.5,-261 186.5,-261 186.5,-193 305.5,-193 305.5,-261\"/>\n",
       "<text text-anchor=\"middle\" x=\"246\" y=\"-245.8\" font-family=\"Times,serif\" font-size=\"14.00\" fill=\"#000000\">X[8] &lt;= 0.5</text>\n",
       "<text text-anchor=\"middle\" x=\"246\" y=\"-230.8\" font-family=\"Times,serif\" font-size=\"14.00\" fill=\"#000000\">gini = 0.472</text>\n",
       "<text text-anchor=\"middle\" x=\"246\" y=\"-215.8\" font-family=\"Times,serif\" font-size=\"14.00\" fill=\"#000000\">samples = 850</text>\n",
       "<text text-anchor=\"middle\" x=\"246\" y=\"-200.8\" font-family=\"Times,serif\" font-size=\"14.00\" fill=\"#000000\">value = [525, 325]</text>\n",
       "</g>\n",
       "<!-- 1 -->\n",
       "<g id=\"node2\" class=\"node\">\n",
       "<title>1</title>\n",
       "<polygon fill=\"none\" stroke=\"#000000\" points=\"235,-157 123,-157 123,-89 235,-89 235,-157\"/>\n",
       "<text text-anchor=\"middle\" x=\"179\" y=\"-141.8\" font-family=\"Times,serif\" font-size=\"14.00\" fill=\"#000000\">X[7] &lt;= 2.5</text>\n",
       "<text text-anchor=\"middle\" x=\"179\" y=\"-126.8\" font-family=\"Times,serif\" font-size=\"14.00\" fill=\"#000000\">gini = 0.378</text>\n",
       "<text text-anchor=\"middle\" x=\"179\" y=\"-111.8\" font-family=\"Times,serif\" font-size=\"14.00\" fill=\"#000000\">samples = 296</text>\n",
       "<text text-anchor=\"middle\" x=\"179\" y=\"-96.8\" font-family=\"Times,serif\" font-size=\"14.00\" fill=\"#000000\">value = [75, 221]</text>\n",
       "</g>\n",
       "<!-- 0&#45;&gt;1 -->\n",
       "<g id=\"edge1\" class=\"edge\">\n",
       "<title>0&#45;&gt;1</title>\n",
       "<path fill=\"none\" stroke=\"#000000\" d=\"M224.0617,-192.9465C218.451,-184.2373 212.3471,-174.7626 206.4958,-165.6801\"/>\n",
       "<polygon fill=\"#000000\" stroke=\"#000000\" points=\"209.3457,-163.641 200.9876,-157.13 203.4611,-167.4321 209.3457,-163.641\"/>\n",
       "<text text-anchor=\"middle\" x=\"196.758\" y=\"-172.9776\" font-family=\"Times,serif\" font-size=\"14.00\" fill=\"#000000\">True</text>\n",
       "</g>\n",
       "<!-- 4 -->\n",
       "<g id=\"node5\" class=\"node\">\n",
       "<title>4</title>\n",
       "<polygon fill=\"none\" stroke=\"#000000\" points=\"372.5,-157 253.5,-157 253.5,-89 372.5,-89 372.5,-157\"/>\n",
       "<text text-anchor=\"middle\" x=\"313\" y=\"-141.8\" font-family=\"Times,serif\" font-size=\"14.00\" fill=\"#000000\">X[0] &lt;= 3.5</text>\n",
       "<text text-anchor=\"middle\" x=\"313\" y=\"-126.8\" font-family=\"Times,serif\" font-size=\"14.00\" fill=\"#000000\">gini = 0.305</text>\n",
       "<text text-anchor=\"middle\" x=\"313\" y=\"-111.8\" font-family=\"Times,serif\" font-size=\"14.00\" fill=\"#000000\">samples = 554</text>\n",
       "<text text-anchor=\"middle\" x=\"313\" y=\"-96.8\" font-family=\"Times,serif\" font-size=\"14.00\" fill=\"#000000\">value = [450, 104]</text>\n",
       "</g>\n",
       "<!-- 0&#45;&gt;4 -->\n",
       "<g id=\"edge4\" class=\"edge\">\n",
       "<title>0&#45;&gt;4</title>\n",
       "<path fill=\"none\" stroke=\"#000000\" d=\"M267.9383,-192.9465C273.549,-184.2373 279.6529,-174.7626 285.5042,-165.6801\"/>\n",
       "<polygon fill=\"#000000\" stroke=\"#000000\" points=\"288.5389,-167.4321 291.0124,-157.13 282.6543,-163.641 288.5389,-167.4321\"/>\n",
       "<text text-anchor=\"middle\" x=\"295.242\" y=\"-172.9776\" font-family=\"Times,serif\" font-size=\"14.00\" fill=\"#000000\">False</text>\n",
       "</g>\n",
       "<!-- 2 -->\n",
       "<g id=\"node3\" class=\"node\">\n",
       "<title>2</title>\n",
       "<polygon fill=\"none\" stroke=\"#000000\" points=\"112,-53 0,-53 0,0 112,0 112,-53\"/>\n",
       "<text text-anchor=\"middle\" x=\"56\" y=\"-37.8\" font-family=\"Times,serif\" font-size=\"14.00\" fill=\"#000000\">gini = 0.126</text>\n",
       "<text text-anchor=\"middle\" x=\"56\" y=\"-22.8\" font-family=\"Times,serif\" font-size=\"14.00\" fill=\"#000000\">samples = 163</text>\n",
       "<text text-anchor=\"middle\" x=\"56\" y=\"-7.8\" font-family=\"Times,serif\" font-size=\"14.00\" fill=\"#000000\">value = [11, 152]</text>\n",
       "</g>\n",
       "<!-- 1&#45;&gt;2 -->\n",
       "<g id=\"edge2\" class=\"edge\">\n",
       "<title>1&#45;&gt;2</title>\n",
       "<path fill=\"none\" stroke=\"#000000\" d=\"M135.6348,-88.9777C123.4964,-79.4545 110.3228,-69.1191 98.2499,-59.6473\"/>\n",
       "<polygon fill=\"#000000\" stroke=\"#000000\" points=\"100.122,-56.6674 90.0939,-53.2485 95.8011,-62.1748 100.122,-56.6674\"/>\n",
       "</g>\n",
       "<!-- 3 -->\n",
       "<g id=\"node4\" class=\"node\">\n",
       "<title>3</title>\n",
       "<polygon fill=\"none\" stroke=\"#000000\" points=\"235.5,-53 130.5,-53 130.5,0 235.5,0 235.5,-53\"/>\n",
       "<text text-anchor=\"middle\" x=\"183\" y=\"-37.8\" font-family=\"Times,serif\" font-size=\"14.00\" fill=\"#000000\">gini = 0.499</text>\n",
       "<text text-anchor=\"middle\" x=\"183\" y=\"-22.8\" font-family=\"Times,serif\" font-size=\"14.00\" fill=\"#000000\">samples = 133</text>\n",
       "<text text-anchor=\"middle\" x=\"183\" y=\"-7.8\" font-family=\"Times,serif\" font-size=\"14.00\" fill=\"#000000\">value = [64, 69]</text>\n",
       "</g>\n",
       "<!-- 1&#45;&gt;3 -->\n",
       "<g id=\"edge3\" class=\"edge\">\n",
       "<title>1&#45;&gt;3</title>\n",
       "<path fill=\"none\" stroke=\"#000000\" d=\"M180.4103,-88.9777C180.7519,-80.7364 181.1187,-71.887 181.4657,-63.5153\"/>\n",
       "<polygon fill=\"#000000\" stroke=\"#000000\" points=\"184.974,-63.3849 181.8913,-53.2485 177.98,-63.0949 184.974,-63.3849\"/>\n",
       "</g>\n",
       "<!-- 5 -->\n",
       "<g id=\"node6\" class=\"node\">\n",
       "<title>5</title>\n",
       "<polygon fill=\"none\" stroke=\"#000000\" points=\"359,-53 261,-53 261,0 359,0 359,-53\"/>\n",
       "<text text-anchor=\"middle\" x=\"310\" y=\"-37.8\" font-family=\"Times,serif\" font-size=\"14.00\" fill=\"#000000\">gini = 0.375</text>\n",
       "<text text-anchor=\"middle\" x=\"310\" y=\"-22.8\" font-family=\"Times,serif\" font-size=\"14.00\" fill=\"#000000\">samples = 16</text>\n",
       "<text text-anchor=\"middle\" x=\"310\" y=\"-7.8\" font-family=\"Times,serif\" font-size=\"14.00\" fill=\"#000000\">value = [4, 12]</text>\n",
       "</g>\n",
       "<!-- 4&#45;&gt;5 -->\n",
       "<g id=\"edge5\" class=\"edge\">\n",
       "<title>4&#45;&gt;5</title>\n",
       "<path fill=\"none\" stroke=\"#000000\" d=\"M311.9423,-88.9777C311.6861,-80.7364 311.411,-71.887 311.1507,-63.5153\"/>\n",
       "<polygon fill=\"#000000\" stroke=\"#000000\" points=\"314.6407,-63.1349 310.8316,-53.2485 307.6441,-63.3524 314.6407,-63.1349\"/>\n",
       "</g>\n",
       "<!-- 6 -->\n",
       "<g id=\"node7\" class=\"node\">\n",
       "<title>6</title>\n",
       "<polygon fill=\"none\" stroke=\"#000000\" points=\"489,-53 377,-53 377,0 489,0 489,-53\"/>\n",
       "<text text-anchor=\"middle\" x=\"433\" y=\"-37.8\" font-family=\"Times,serif\" font-size=\"14.00\" fill=\"#000000\">gini = 0.284</text>\n",
       "<text text-anchor=\"middle\" x=\"433\" y=\"-22.8\" font-family=\"Times,serif\" font-size=\"14.00\" fill=\"#000000\">samples = 538</text>\n",
       "<text text-anchor=\"middle\" x=\"433\" y=\"-7.8\" font-family=\"Times,serif\" font-size=\"14.00\" fill=\"#000000\">value = [446, 92]</text>\n",
       "</g>\n",
       "<!-- 4&#45;&gt;6 -->\n",
       "<g id=\"edge6\" class=\"edge\">\n",
       "<title>4&#45;&gt;6</title>\n",
       "<path fill=\"none\" stroke=\"#000000\" d=\"M355.3075,-88.9777C367.1499,-79.4545 380.0021,-69.1191 391.7805,-59.6473\"/>\n",
       "<polygon fill=\"#000000\" stroke=\"#000000\" points=\"394.1382,-62.2427 399.7376,-53.2485 389.7514,-56.7877 394.1382,-62.2427\"/>\n",
       "</g>\n",
       "</g>\n",
       "</svg>\n"
      ],
      "text/plain": [
       "<graphviz.files.Source at 0x7f96ff297748>"
      ]
     },
     "execution_count": 17,
     "metadata": {},
     "output_type": "execute_result"
    }
   ],
   "source": [
    "graph = export_graphviz(model)\n",
    "my_graph = graphviz.Source(graph)\n",
    "my_graph"
   ]
  },
  {
   "cell_type": "markdown",
   "metadata": {},
   "source": [
    "<font color='red'> Вопрос 2:</font> сколько признаков задействуется в дереве с максимальной глубиной 2? 2\n",
    "\n",
    "- 2\n",
    "- 3\n",
    "- 4\n",
    "- 5\n",
    "\n",
    "Ваш ответ ниже"
   ]
  },
  {
   "cell_type": "code",
   "execution_count": 18,
   "metadata": {},
   "outputs": [],
   "source": [
    "# 3  - (2)"
   ]
  },
  {
   "cell_type": "markdown",
   "metadata": {},
   "source": [
    "### 2. Дерево с настройкой гиперпараметров"
   ]
  },
  {
   "cell_type": "code",
   "execution_count": 19,
   "metadata": {},
   "outputs": [
    {
     "name": "stdout",
     "output_type": "stream",
     "text": [
      "{'max_depth': 3, 'min_samples_leaf': 6}\n",
      "0.7941176470588235\n"
     ]
    }
   ],
   "source": [
    "from sklearn.model_selection import GridSearchCV\n",
    "\n",
    "tree_params = {\n",
    "    'max_depth': list(range(1, 10)),\n",
    "    'min_samples_leaf': list(range(1, 8))\n",
    "}\n",
    "gs = GridSearchCV(\n",
    "    DecisionTreeClassifier(random_state=RANDOM_STATE),\n",
    "    param_grid=tree_params,\n",
    "    scoring='accuracy',\n",
    "    cv = 5\n",
    ")\n",
    "gs.fit(X, y)\n",
    "\n",
    "print(gs.best_params_)\n",
    "print(gs.best_score_)"
   ]
  },
  {
   "cell_type": "markdown",
   "metadata": {},
   "source": [
    "<font color='red'>Вопрос 3:</font> какие наилучшие параметры дает нам GridSearchCV\n",
    "\n",
    "- max_depth=3, min_samples_leaf=6\n",
    "- max_depth=4, min_samples_leaf=3\n",
    "- max_depth=2, min_samples_leaf=7\n",
    "- max_depth=3, min_samples_leaf=5\n",
    "\n",
    "Ваш ответ ниже"
   ]
  },
  {
   "cell_type": "code",
   "execution_count": 20,
   "metadata": {},
   "outputs": [],
   "source": [
    "# max_depth=3, min_samples_leaf=6 - (1)"
   ]
  },
  {
   "cell_type": "code",
   "execution_count": 21,
   "metadata": {},
   "outputs": [
    {
     "data": {
      "text/plain": [
       "0.7941176470588236"
      ]
     },
     "execution_count": 21,
     "metadata": {},
     "output_type": "execute_result"
    }
   ],
   "source": [
    "from sklearn.model_selection import cross_val_score\n",
    "np.mean(cross_val_score(DecisionTreeClassifier(max_depth = 3, min_samples_leaf = 6),X,y,scoring = 'accuracy',cv=5))"
   ]
  },
  {
   "cell_type": "markdown",
   "metadata": {},
   "source": [
    "<font color='red'>Вопрос 4:</font> какая средняя точность на 5 фолдах (с точностью до 3-х знаков)?\n",
    "\n",
    "- 0.797\n",
    "- 0.801\n",
    "- 0.794\n",
    "- 0.789\n",
    "\n",
    "Ваш ответ ниже"
   ]
  },
  {
   "cell_type": "code",
   "execution_count": 22,
   "metadata": {},
   "outputs": [],
   "source": [
    "# 0.794 -(3)"
   ]
  },
  {
   "cell_type": "markdown",
   "metadata": {},
   "source": [
    "**Теперь сделайте предсказания для тестовой выборки**"
   ]
  },
  {
   "cell_type": "code",
   "execution_count": 33,
   "metadata": {},
   "outputs": [],
   "source": [
    "preds = gs.predict(X_test)\n",
    "make_submission(ids,preds)"
   ]
  },
  {
   "cell_type": "markdown",
   "metadata": {},
   "source": [
    "<font color='red'>Вопрос 5:</font> какой получается public-score для данного предсказания?\n",
    "\n",
    "- 0.784\n",
    "- 0.782\n",
    "- 0.779\n",
    "- 0.791"
   ]
  },
  {
   "cell_type": "code",
   "execution_count": null,
   "metadata": {},
   "outputs": [],
   "source": [
    "# 0.784 - (1)"
   ]
  },
  {
   "cell_type": "markdown",
   "metadata": {},
   "source": [
    "### 3. One-hot Encoding\n",
    "\n",
    "Теперь вспомним, что в нашем датасете есть категориальные признаки, которые попали в итоговые train и test\n",
    "выборки. Перед тем, как обучать дерево, мы воспользовались label encoding'-ом из sklearn.\n",
    "На выходе строки в таких колонках были преобразованы в соответствующие числа.\n",
    "\n",
    "Как дерево будет работать с такими признаками?\n",
    "\n",
    "*Ответ* - **как с численными** (<a href=https://github.com/scikit-learn/scikit-learn/issues/5442>пруф</a>)\n",
    "\n",
    "Нас такой расклад не устраивает, потому что вместо того, чтобы делать сплит по каждому значению признака, дерево будет делать сплит только по тем значениям, при которых будет меняться значение таргета (см. доп. материалы по занятию, там этот момент освещен).\n",
    "\n",
    "Поэтому чтобы дерево умело правильно работать с данными признаками, нам необходимо сделать ***one-hot encoding***\n",
    "\n",
    "Рассмотрим данное преобразование на конкретном примере:\n",
    "<img src='ohe_example.jpg'>\n",
    "\n",
    "Соответствие какому-то конкретному категориальному признаку выносится в отдельную бинарную колонку, как видно выше.\n",
    "И теперь по ходу процесса обучения алгоритм будет рассматривать данные колонки как категориальные, а не как вещественные."
   ]
  },
  {
   "cell_type": "code",
   "execution_count": 24,
   "metadata": {},
   "outputs": [
    {
     "data": {
      "text/html": [
       "<div>\n",
       "<style scoped>\n",
       "    .dataframe tbody tr th:only-of-type {\n",
       "        vertical-align: middle;\n",
       "    }\n",
       "\n",
       "    .dataframe tbody tr th {\n",
       "        vertical-align: top;\n",
       "    }\n",
       "\n",
       "    .dataframe thead th {\n",
       "        text-align: right;\n",
       "    }\n",
       "</style>\n",
       "<table border=\"1\" class=\"dataframe\">\n",
       "  <thead>\n",
       "    <tr style=\"text-align: right;\">\n",
       "      <th></th>\n",
       "      <th>PassengerId</th>\n",
       "      <th>Pclass</th>\n",
       "      <th>Sex</th>\n",
       "      <th>Age</th>\n",
       "      <th>Fare</th>\n",
       "      <th>Embarked</th>\n",
       "      <th>Survived</th>\n",
       "      <th>Title</th>\n",
       "      <th>Children</th>\n",
       "      <th>Mother</th>\n",
       "      <th>Family_size</th>\n",
       "      <th>Deck</th>\n",
       "    </tr>\n",
       "  </thead>\n",
       "  <tbody>\n",
       "    <tr>\n",
       "      <th>0</th>\n",
       "      <td>888</td>\n",
       "      <td>1</td>\n",
       "      <td>female</td>\n",
       "      <td>19</td>\n",
       "      <td>30.0000</td>\n",
       "      <td>S</td>\n",
       "      <td>1</td>\n",
       "      <td>Miss</td>\n",
       "      <td>0</td>\n",
       "      <td>0</td>\n",
       "      <td>1</td>\n",
       "      <td>B</td>\n",
       "    </tr>\n",
       "    <tr>\n",
       "      <th>1</th>\n",
       "      <td>1249</td>\n",
       "      <td>3</td>\n",
       "      <td>male</td>\n",
       "      <td>28</td>\n",
       "      <td>7.8792</td>\n",
       "      <td>S</td>\n",
       "      <td>0</td>\n",
       "      <td>Mr</td>\n",
       "      <td>0</td>\n",
       "      <td>0</td>\n",
       "      <td>1</td>\n",
       "      <td>no_deck</td>\n",
       "    </tr>\n",
       "    <tr>\n",
       "      <th>2</th>\n",
       "      <td>1240</td>\n",
       "      <td>2</td>\n",
       "      <td>male</td>\n",
       "      <td>24</td>\n",
       "      <td>13.5000</td>\n",
       "      <td>S</td>\n",
       "      <td>0</td>\n",
       "      <td>Mr</td>\n",
       "      <td>0</td>\n",
       "      <td>0</td>\n",
       "      <td>1</td>\n",
       "      <td>no_deck</td>\n",
       "    </tr>\n",
       "    <tr>\n",
       "      <th>3</th>\n",
       "      <td>221</td>\n",
       "      <td>3</td>\n",
       "      <td>male</td>\n",
       "      <td>16</td>\n",
       "      <td>8.0500</td>\n",
       "      <td>S</td>\n",
       "      <td>1</td>\n",
       "      <td>Mr</td>\n",
       "      <td>1</td>\n",
       "      <td>0</td>\n",
       "      <td>1</td>\n",
       "      <td>no_deck</td>\n",
       "    </tr>\n",
       "    <tr>\n",
       "      <th>4</th>\n",
       "      <td>1105</td>\n",
       "      <td>2</td>\n",
       "      <td>female</td>\n",
       "      <td>60</td>\n",
       "      <td>26.0000</td>\n",
       "      <td>S</td>\n",
       "      <td>0</td>\n",
       "      <td>Mrs</td>\n",
       "      <td>0</td>\n",
       "      <td>0</td>\n",
       "      <td>2</td>\n",
       "      <td>no_deck</td>\n",
       "    </tr>\n",
       "  </tbody>\n",
       "</table>\n",
       "</div>"
      ],
      "text/plain": [
       "   PassengerId  Pclass     Sex  Age     Fare Embarked  Survived Title  \\\n",
       "0          888       1  female   19  30.0000        S         1  Miss   \n",
       "1         1249       3    male   28   7.8792        S         0    Mr   \n",
       "2         1240       2    male   24  13.5000        S         0    Mr   \n",
       "3          221       3    male   16   8.0500        S         1    Mr   \n",
       "4         1105       2  female   60  26.0000        S         0   Mrs   \n",
       "\n",
       "   Children  Mother  Family_size     Deck  \n",
       "0         0       0            1        B  \n",
       "1         0       0            1  no_deck  \n",
       "2         0       0            1  no_deck  \n",
       "3         1       0            1  no_deck  \n",
       "4         0       0            2  no_deck  "
      ]
     },
     "execution_count": 24,
     "metadata": {},
     "output_type": "execute_result"
    }
   ],
   "source": [
    "unnecessary_cols = [\"Name\", \"Ticket\", \"SibSp\", \"Parch\", \"Cabin\"]\n",
    "\n",
    "train_v2 = train_df.drop(unnecessary_cols, axis=1).copy()\n",
    "test_v2 = test_df.drop(unnecessary_cols, axis=1).copy()\n",
    "\n",
    "train_v2.head()"
   ]
  },
  {
   "cell_type": "code",
   "execution_count": 25,
   "metadata": {},
   "outputs": [
    {
     "name": "stdout",
     "output_type": "stream",
     "text": [
      "Encoding Pclass\n",
      "Encoding Sex\n",
      "Encoding Embarked\n",
      "Encoding Title\n",
      "Encoding Mother\n",
      "Encoding Deck\n"
     ]
    }
   ],
   "source": [
    "\"\"\"\n",
    "train и test могут отличаться по значениям категориальных признаков.\n",
    "Поэтому может получиться так, что train и test будут отличаться по\n",
    "количеству и названию колонок после преобразования.\n",
    "Чтобы этого избежать, объединим train и test, выполним OHE, а потом\n",
    "разъединим обратно.\n",
    "\"\"\"\n",
    "\n",
    "categorical_cols = ['Pclass', 'Sex', 'Embarked', 'Title', 'Mother', 'Deck']\n",
    "full_df = pd.concat([train_v2, test_v2], axis=0)\n",
    "dfs = []\n",
    "\n",
    "for col in categorical_cols:\n",
    "    print(f\"Encoding {col}\")\n",
    "    df = pd.get_dummies(full_df[col], prefix=col)\n",
    "    dfs.append(df)\n",
    "    \n",
    "full_df = pd.concat([full_df] + dfs, axis=1)\n",
    "full_df = full_df.drop(categorical_cols, axis=1)\n",
    "\n",
    "train_v2 = full_df[full_df.Survived.notnull()]\n",
    "train_v2.Survived = train_v1.Survived.astype(\"int8\")\n",
    "\n",
    "test_v2 = full_df[full_df.Survived.isnull()]\n",
    "test_v2 = test_v2.drop(\"Survived\", axis=1)"
   ]
  },
  {
   "cell_type": "markdown",
   "metadata": {},
   "source": [
    "Убедимся, что train от test'a отличаются только тем, что в первом есть таргет, а во втором нет"
   ]
  },
  {
   "cell_type": "code",
   "execution_count": 26,
   "metadata": {},
   "outputs": [
    {
     "data": {
      "text/plain": [
       "{'Survived'}"
      ]
     },
     "execution_count": 26,
     "metadata": {},
     "output_type": "execute_result"
    }
   ],
   "source": [
    "set(train_v2.columns) - set(test_v2.columns)"
   ]
  },
  {
   "cell_type": "code",
   "execution_count": 27,
   "metadata": {},
   "outputs": [],
   "source": [
    "feature_cols = [col for col in train_v2.columns if col not in {\"PassengerId\", \"Survived\"}]\n",
    "target_col = \"Survived\"\n",
    "\n",
    "X = train_v2[feature_cols].values\n",
    "y = train_v2[target_col]"
   ]
  },
  {
   "cell_type": "markdown",
   "metadata": {},
   "source": [
    "### Задание\n",
    "\n",
    "Обучите дерево и подберите оптимальные гиперпараметры при помощи GridSearchCV на данной выборке"
   ]
  },
  {
   "cell_type": "code",
   "execution_count": 28,
   "metadata": {},
   "outputs": [
    {
     "name": "stdout",
     "output_type": "stream",
     "text": [
      "{'max_depth': 3, 'min_samples_leaf': 9}\n",
      "0.8011764705882353\n"
     ]
    }
   ],
   "source": [
    "tree_params = {\n",
    "    'max_depth': list(range(1, 10)),\n",
    "    'min_samples_leaf': list(range(1, 10))\n",
    "}\n",
    "gs = GridSearchCV(\n",
    "    DecisionTreeClassifier(random_state=RANDOM_STATE),\n",
    "    param_grid=tree_params,\n",
    "    scoring='accuracy',\n",
    "    cv = 5\n",
    ")\n",
    "gs.fit(X, y)\n",
    "\n",
    "print(gs.best_params_)\n",
    "print(gs.best_score_)\n",
    "# Your code here"
   ]
  },
  {
   "cell_type": "markdown",
   "metadata": {},
   "source": [
    "<font color='red'>Вопрос 6:</font> какие наилучшие параметры дает нам GridSearchCV\n",
    "\n",
    "- max_depth=3, min_samples_leaf=6\n",
    "- max_depth=4, min_samples_leaf=3\n",
    "- max_depth=2, min_samples_leaf=7\n",
    "- max_depth=3, min_samples_leaf=9\n",
    "\n",
    "Ваш ответ ниже"
   ]
  },
  {
   "cell_type": "code",
   "execution_count": 29,
   "metadata": {},
   "outputs": [],
   "source": [
    " #max_depth=3, min_samples_leaf=9 - (4)"
   ]
  },
  {
   "cell_type": "code",
   "execution_count": null,
   "metadata": {},
   "outputs": [],
   "source": [
    "np.mean(DecisionTreeClassifier(max_depth = 3,min_samples_leaf = 9))"
   ]
  },
  {
   "cell_type": "markdown",
   "metadata": {},
   "source": [
    "<font color='red'>Вопрос 7:</font> какая средняя точность на 5 фолдах (с точностью до 3-х знаков)?\n",
    "\n",
    "- 0.797\n",
    "- 0.801\n",
    "- 0.794\n",
    "- 0.789"
   ]
  },
  {
   "cell_type": "code",
   "execution_count": 30,
   "metadata": {},
   "outputs": [],
   "source": [
    "# 0.801  - (2)"
   ]
  },
  {
   "cell_type": "markdown",
   "metadata": {},
   "source": [
    "Получите предсказания и сделайте submit в соревнование"
   ]
  },
  {
   "cell_type": "code",
   "execution_count": 31,
   "metadata": {},
   "outputs": [],
   "source": [
    "X_test = test_v2[feature_cols]\n",
    "preds  = gs.predict(X_test)\n",
    "ids = test_df.PassengerId.values\n",
    "make_submission(ids, preds)"
   ]
  },
  {
   "cell_type": "markdown",
   "metadata": {},
   "source": [
    "<font color='red'>Вопрос 8:</font> какой public score дает данное дерево (с точностью до трех знаков)?\n",
    "\n",
    "- 0.794\n",
    "- 0.805\n",
    "- 0.791\n",
    "- 0.789\n",
    "\n",
    "Ваш ответ ниже"
   ]
  },
  {
   "cell_type": "code",
   "execution_count": 32,
   "metadata": {},
   "outputs": [],
   "source": [
    "# 0.784 - (1) "
   ]
  }
 ],
 "metadata": {
  "kernelspec": {
   "display_name": "Python 3",
   "language": "python",
   "name": "python3"
  },
  "language_info": {
   "codemirror_mode": {
    "name": "ipython",
    "version": 3
   },
   "file_extension": ".py",
   "mimetype": "text/x-python",
   "name": "python",
   "nbconvert_exporter": "python",
   "pygments_lexer": "ipython3",
   "version": "3.7.3"
  }
 },
 "nbformat": 4,
 "nbformat_minor": 2
}
