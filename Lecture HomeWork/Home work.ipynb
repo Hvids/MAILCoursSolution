{
 "cells": [
  {
   "cell_type": "code",
   "execution_count": null,
   "metadata": {},
   "outputs": [],
   "source": [
    "# import cv2\n",
    "from matplotlib import pyplot as plt\n",
    "im = cv2.imread(\"big.jpg\")\n",
    "\n",
    "plt.imshow(im)"
   ]
  },
  {
   "cell_type": "code",
   "execution_count": 26,
   "metadata": {},
   "outputs": [
    {
     "name": "stdout",
     "output_type": "stream",
     "text": [
      "1 - Размер изображения\n",
      " 187500\n"
     ]
    }
   ],
   "source": [
    "print('1 - Размер изображения')\n",
    "width, heigth = im.shape[:2]\n",
    "print(f'{width*heigth}')"
   ]
  },
  {
   "cell_type": "code",
   "execution_count": 27,
   "metadata": {},
   "outputs": [
    {
     "name": "stdout",
     "output_type": "stream",
     "text": [
      "2 - Среднее значение\n"
     ]
    },
    {
     "data": {
      "text/plain": [
       "array([ 50.0152    ,  92.14728533, 128.71666667])"
      ]
     },
     "execution_count": 27,
     "metadata": {},
     "output_type": "execute_result"
    }
   ],
   "source": [
    "print('2 - Среднее значение')\n",
    "im.mean(axis=0).mean(axis=0)"
   ]
  },
  {
   "cell_type": "code",
   "execution_count": 28,
   "metadata": {
    "scrolled": true
   },
   "outputs": [
    {
     "name": "stdout",
     "output_type": "stream",
     "text": [
      "3 - Среднеквадратичное отклонение\n",
      "1 : 38.32541024298805\n",
      "2 : 62.77928493033286\n",
      "3 : 77.48058953197389\n"
     ]
    }
   ],
   "source": [
    "print('3 - Среднеквадратичное отклонение')\n",
    "\n",
    "print(f'1 : {im[:,:,0].std()}')\n",
    "print(f\"2 : {im[:,:,1].std()}\")\n",
    "print(f\"3 : {im[:,:,2].std()}\")\n"
   ]
  },
  {
   "cell_type": "code",
   "execution_count": 29,
   "metadata": {},
   "outputs": [
    {
     "name": "stdout",
     "output_type": "stream",
     "text": [
      "4 - Revers\n"
     ]
    },
    {
     "data": {
      "text/plain": [
       "192"
      ]
     },
     "execution_count": 29,
     "metadata": {},
     "output_type": "execute_result"
    }
   ],
   "source": [
    "print('4 - Revers')\n",
    "a = im[:,:,::-1]\n",
    "a[0,345,0]"
   ]
  },
  {
   "cell_type": "code",
   "execution_count": 13,
   "metadata": {},
   "outputs": [
    {
     "name": "stdout",
     "output_type": "stream",
     "text": [
      "4\n"
     ]
    },
    {
     "data": {
      "text/plain": [
       "500"
      ]
     },
     "execution_count": 13,
     "metadata": {},
     "output_type": "execute_result"
    }
   ],
   "source": [
    "print('5 - Столбцы в которых есть 7')\n",
    "import numpy as np\n",
    "np.random.seed(7964)\n",
    "A = np.random.randint(0, 8, size=(500, 500)) \n",
    "B= ((A[:,:] == 7).sum(axis=0)) > 0\n",
    "B.sum()"
   ]
  },
  {
   "cell_type": "code",
   "execution_count": 20,
   "metadata": {},
   "outputs": [
    {
     "name": "stdout",
     "output_type": "stream",
     "text": [
      "5\n"
     ]
    },
    {
     "data": {
      "text/plain": [
       "62383552"
      ]
     },
     "execution_count": 20,
     "metadata": {},
     "output_type": "execute_result"
    }
   ],
   "source": [
    "print('6 - A < 4')\n",
    "np.array(np.where(A < 4)).sum()"
   ]
  },
  {
   "cell_type": "code",
   "execution_count": 23,
   "metadata": {},
   "outputs": [
    {
     "name": "stdout",
     "output_type": "stream",
     "text": [
      "6\n"
     ]
    },
    {
     "data": {
      "text/plain": [
       "31139828"
      ]
     },
     "execution_count": 23,
     "metadata": {},
     "output_type": "execute_result"
    }
   ],
   "source": [
    "print('7 - 2 <= A < 4')\n",
    "np.array(np.where((A < 4) & (A >= 2 ))).sum()"
   ]
  },
  {
   "cell_type": "code",
   "execution_count": 25,
   "metadata": {},
   "outputs": [
    {
     "name": "stdout",
     "output_type": "stream",
     "text": [
      "7\n"
     ]
    },
    {
     "data": {
      "text/plain": [
       "156096"
      ]
     },
     "execution_count": 25,
     "metadata": {},
     "output_type": "execute_result"
    }
   ],
   "source": [
    "print('8 - Last sum A')\n",
    "np.where((A < 4) & (A >= 2 ),A,0).sum()"
   ]
  },
  {
   "cell_type": "code",
   "execution_count": 132,
   "metadata": {},
   "outputs": [
    {
     "data": {
      "text/plain": [
       "3500"
      ]
     },
     "execution_count": 132,
     "metadata": {},
     "output_type": "execute_result"
    }
   ],
   "source": [
    "print('9 - Max.sum')\n",
    "A.max(axis=0).sum()"
   ]
  },
  {
   "cell_type": "code",
   "execution_count": 32,
   "metadata": {},
   "outputs": [
    {
     "name": "stdout",
     "output_type": "stream",
     "text": [
      "10 - Skalar\n"
     ]
    },
    {
     "data": {
      "text/plain": [
       "218833635"
      ]
     },
     "execution_count": 32,
     "metadata": {},
     "output_type": "execute_result"
    }
   ],
   "source": [
    "print('10 - Skalar')\n",
    "x = np.arange(1, 501, 1)\n",
    "np.dot(A,x).sum()\n"
   ]
  },
  {
   "cell_type": "code",
   "execution_count": 31,
   "metadata": {},
   "outputs": [
    {
     "name": "stdout",
     "output_type": "stream",
     "text": [
      "11 - Proizv Trans\n"
     ]
    },
    {
     "data": {
      "text/plain": [
       "3048311"
      ]
     },
     "execution_count": 31,
     "metadata": {},
     "output_type": "execute_result"
    }
   ],
   "source": [
    "print('11 - Proizv Trans')\n",
    "np.random.seed(33)\n",
    "\n",
    "w = np.random.randint(0, 8, size=(5, 500))\n",
    "w = w.transpose()\n",
    "(np.hsplit(A,100)*w).sum()"
   ]
  },
  {
   "cell_type": "code",
   "execution_count": 30,
   "metadata": {},
   "outputs": [
    {
     "name": "stdout",
     "output_type": "stream",
     "text": [
      "12 - Proinzv\n"
     ]
    },
    {
     "data": {
      "text/plain": [
       "3036774"
      ]
     },
     "execution_count": 30,
     "metadata": {},
     "output_type": "execute_result"
    }
   ],
   "source": [
    "print('12 - Proinzv')\n",
    "w = np.random.randint(0, 8, size=(5, 500))\n",
    "(np.vsplit(A,100)*w).sum()"
   ]
  }
 ],
 "metadata": {
  "kernelspec": {
   "display_name": "Python 3",
   "language": "python",
   "name": "python3"
  },
  "language_info": {
   "codemirror_mode": {
    "name": "ipython",
    "version": 3
   },
   "file_extension": ".py",
   "mimetype": "text/x-python",
   "name": "python",
   "nbconvert_exporter": "python",
   "pygments_lexer": "ipython3",
   "version": "3.7.3"
  }
 },
 "nbformat": 4,
 "nbformat_minor": 2
}
