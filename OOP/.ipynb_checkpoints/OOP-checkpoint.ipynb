{
 "cells": [
  {
   "cell_type": "code",
   "execution_count": 1,
   "metadata": {},
   "outputs": [],
   "source": [
    "class Engine:\n",
    "    pass"
   ]
  },
  {
   "cell_type": "code",
   "execution_count": 13,
   "metadata": {},
   "outputs": [],
   "source": [
    "from abc import ABC, abstractmethod\n",
    "\n",
    "class ObservableEngine(Engine):\n",
    "    \n",
    "    def __init__(self):\n",
    "        self.__subscribers = set()\n",
    "    \n",
    "    def subscribe(self, subscriber):\n",
    "        self.__subscribers.add(subscriber)\n",
    "    \n",
    "    def unsubscribe(self, subscriber):\n",
    "        self.__subscribers.remove(subscriber)\n",
    "    \n",
    "\n",
    "    def notify(self, message):\n",
    "        for sub in self.__subscribers:\n",
    "            sub.update(message)\n",
    "\n",
    "class AbstractObserver(ABC):            \n",
    "        @abstractmethod\n",
    "        def update(self, achieve):\n",
    "            pass\n",
    "\n",
    "class ShortNotificationPrinter(AbstractObserver):\n",
    "    def __init__ (self):\n",
    "        \n",
    "        self.achievements = set()\n",
    "\n",
    "    def update(self, achieve):\n",
    "        \n",
    "        if not achieve in self.achievements:\n",
    "            self.achievements.add(achieve)    \n",
    "       \n",
    "        \n",
    "class FullNotificationPrinter(AbstractObserver):\n",
    "    def __init__ (self):\n",
    "        self.achievements = list()\n",
    "        \n",
    "    def update(self, achieve):\n",
    "        \n",
    "        if not achieve in self.achievements:\n",
    "            self.achievements.append(achieve)"
   ]
  },
  {
   "cell_type": "code",
   "execution_count": 15,
   "metadata": {
    "scrolled": true
   },
   "outputs": [
    {
     "name": "stdout",
     "output_type": "stream",
     "text": [
      "[{'title': 'Покоритель', 'text': 'Дается при выполнении всех заданий в игре'}, {'title': 'окоритель', 'text': 'Дается при выполнении всех заданий в игре'}, {'title': 'Покорител', 'text': 'Дается при выполнении всех заданий в игре'}]\n",
      "{('Покорител', 'Дается при выполнении всех заданий в игре'), ('окоритель', 'Дается при выполнении всех заданий в игре'), ('Покоритель', 'Дается при выполнении всех заданий в игре')}\n"
     ]
    }
   ],
   "source": [
    "OE = ObservableEngine()\n",
    "sn = ShortNotificationPrinter()\n",
    "fn = FullNotificationPrinter()\n",
    "OE.subscribe(sn)\n",
    "OE.subscribe(fn)\n",
    "OE.subscribe(fn)\n",
    "\n",
    "OE.notify({\"title\": \"Покоритель\", \"text\": \"Дается при выполнении всех заданий в игре\"})\n",
    "OE.notify({\"title\": \"окоритель\", \"text\": \"Дается при выполнении всех заданий в игре\"})\n",
    "OE.notify({\"title\": \"Покоритель\", \"text\": \"Дается при выполнении всех заданий в игре\"})\n",
    "OE.notify({\"title\": \"Покорител\", \"text\": \"Дается при выполнении всех заданий в игре\"})\n",
    "OE.notify({\"title\": \"Покорител\", \"text\": \"Дается при выполнении всех заданий в игре\"})\n",
    "\n",
    "print(fn.achievements)\n",
    "print(sn.achievements)"
   ]
  },
  {
   "cell_type": "code",
   "execution_count": 7,
   "metadata": {},
   "outputs": [
    {
     "data": {
      "text/plain": [
       "(1, 2)"
      ]
     },
     "execution_count": 7,
     "metadata": {},
     "output_type": "execute_result"
    }
   ],
   "source": []
  }
 ],
 "metadata": {
  "kernelspec": {
   "display_name": "Python 3",
   "language": "python",
   "name": "python3"
  },
  "language_info": {
   "codemirror_mode": {
    "name": "ipython",
    "version": 3
   },
   "file_extension": ".py",
   "mimetype": "text/x-python",
   "name": "python",
   "nbconvert_exporter": "python",
   "pygments_lexer": "ipython3",
   "version": "3.7.3"
  }
 },
 "nbformat": 4,
 "nbformat_minor": 2
}
