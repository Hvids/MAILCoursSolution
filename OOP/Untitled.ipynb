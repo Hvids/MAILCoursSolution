{
 "cells": [
  {
   "cell_type": "code",
   "execution_count": 1,
   "metadata": {},
   "outputs": [],
   "source": [
    "class Light:\n",
    "    def __init__(self, dim):\n",
    "        self.dim = dim\n",
    "        self.grid = [[0 for i in range(dim[0])] for _ in range(dim[1])]\n",
    "        self.lights = []\n",
    "        self.obstacles = []\n",
    "        \n",
    "    def set_dim(self, dim):\n",
    "        self.dim = dim\n",
    "        self.grid = [[0 for i in range(dim[0])] for _ in range(dim[1])]\n",
    "    \n",
    "    def set_lights(self, lights):\n",
    "        self.lights = lights\n",
    "        self.generate_lights()\n",
    "    \n",
    "    def set_obstacles(self, obstacles):\n",
    "        self.obstacles = obstacles\n",
    "        self.generate_lights()\n",
    "        \n",
    "    def generate_lights(self):\n",
    "        return self.grid.copy()\n",
    "    \n",
    "class System:\n",
    "    def __init__(self):\n",
    "        self.map = self.grid = [[0 for i in range(30)] for _ in range(20)]\n",
    "        self.map[5][7] = 1 # Источники света\n",
    "        self.map[5][2] = -1 # Стены\n",
    "    \n",
    "    def get_lightening(self, light_mapper):\n",
    "        self.lightmap = light_mapper.lighten(self.map)\n",
    "    "
   ]
  },
  {
   "cell_type": "code",
   "execution_count": null,
   "metadata": {},
   "outputs": [],
   "source": []
  },
  {
   "cell_type": "code",
   "execution_count": 2,
   "metadata": {},
   "outputs": [],
   "source": [
    "class MappingAdapter:\n",
    "    def __init__(self, adaptee):\n",
    "        self.adaptee = adaptee\n",
    "\n",
    "    def lighten(self, grid):\n",
    "        self.adaptee.set_dim((len(grid[0]),len(grid)))\n",
    "        list_lights = []\n",
    "        list_obs = []\n",
    "        for i in range(len(grid)):\n",
    "            for j in range(len(grid[i])):\n",
    "                if grid[i][j] == 1:\n",
    "                    elem = (j,i)\n",
    "                    list_lights.append(elem)\n",
    "                if grid[i][j] == -1:\n",
    "                    elem = (j,i)\n",
    "                    list_obs.append(elem)    \n",
    "        self.adaptee.set_lights(list_lights)\n",
    "        self.adaptee.set_obstacles(list_obs)\n",
    "        return self.adaptee.generate_lights()"
   ]
  },
  {
   "cell_type": "code",
   "execution_count": 3,
   "metadata": {},
   "outputs": [],
   "source": [
    "sys = System()\n",
    "light = Light((20, 30))\n",
    "mapping = MappingAdapter(light)\n",
    "sys.get_lightening(mapping)"
   ]
  },
  {
   "cell_type": "code",
   "execution_count": null,
   "metadata": {},
   "outputs": [],
   "source": []
  },
  {
   "cell_type": "code",
   "execution_count": 4,
   "metadata": {},
   "outputs": [
    {
     "name": "stdout",
     "output_type": "stream",
     "text": [
      "0\n",
      "1\n",
      "2\n",
      "3\n"
     ]
    }
   ],
   "source": [
    "for i in range(4):\n",
    "    print(i)"
   ]
  },
  {
   "cell_type": "code",
   "execution_count": null,
   "metadata": {},
   "outputs": [],
   "source": []
  }
 ],
 "metadata": {
  "kernelspec": {
   "display_name": "Python 3",
   "language": "python",
   "name": "python3"
  },
  "language_info": {
   "codemirror_mode": {
    "name": "ipython",
    "version": 3
   },
   "file_extension": ".py",
   "mimetype": "text/x-python",
   "name": "python",
   "nbconvert_exporter": "python",
   "pygments_lexer": "ipython3",
   "version": "3.7.3"
  }
 },
 "nbformat": 4,
 "nbformat_minor": 2
}
